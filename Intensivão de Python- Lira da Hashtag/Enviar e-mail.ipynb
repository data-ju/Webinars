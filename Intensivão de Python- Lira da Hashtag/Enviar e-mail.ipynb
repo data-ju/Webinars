{
 "cells": [
  {
   "cell_type": "markdown",
   "metadata": {},
   "source": [
    "# Enviando um e-mail automatizado\n",
    "\n",
    "Criando uma automação para enviar e-mail através do Python e a biblioteca \"Pyautogui\"\n",
    "\n",
    "Lembre-se: A automação funciona por posição X e Y do mouse, o que pode diferir dependendo da resolução da tela do computador e causar divergências no código ou erros na execução!"
   ]
  },
  {
   "cell_type": "code",
   "execution_count": 4,
   "metadata": {},
   "outputs": [],
   "source": [
    "#Importando as bibliotecas\n",
    "import pyautogui\n",
    "import pyperclip\n",
    "import time"
   ]
  },
  {
   "cell_type": "markdown",
   "metadata": {},
   "source": [
    "### Vamos agora enviar um e-mail pelo gmail"
   ]
  },
  {
   "cell_type": "code",
   "execution_count": 8,
   "metadata": {},
   "outputs": [],
   "source": [
    "# Enviar um e-mail pelo Gmail\n",
    "\n",
    "# Abrir nova Aba\n",
    "pyautogui.hotkey(\"ctrl\", \"t\")\n",
    "\n",
    "# Entrar no link do email - https://mail.google.com/mail/u/0/#inbox\n",
    "pyperclip.copy(\"https://mail.google.com/mail/u/0/#inbox\")\n",
    "pyautogui.hotkey(\"ctrl\", \"v\")\n",
    "pyautogui.press(\"enter\")\n",
    "time.sleep(3)\n",
    "\n",
    "# Clicar no botão escrever\n",
    "pyautogui.click(x=77, y=192)\n",
    "\n",
    "# Preencher as informações do e-mail\n",
    "pyautogui.click(x=1270, y=455)\n",
    "time.sleep(2)\n",
    "# Inserindo o destinatário\n",
    "pyautogui.write(\"juvalim.29@gmail.com\")\n",
    "pyautogui.press(\"tab\") # selecionar o email\n",
    "pyautogui.press(\"tab\")\n",
    "\n",
    "#Inserindo o assunto\n",
    "pyperclip.copy(\"Teste\")\n",
    "pyautogui.hotkey(\"ctrl\", \"v\")\n",
    "pyautogui.press(\"tab\") # pular para o campo de corpo do email\n",
    "\n",
    "#Inserindo o corpo do e-mail\n",
    "texto = f\"\"\"\n",
    "Olá!\n",
    "\n",
    "Esse é um e-mail automático enviado através do Python!\n",
    "\n",
    "Atenciosamente,\n",
    "data-ju\n",
    "\"\"\"\n",
    "\n",
    "pyperclip.copy(texto)\n",
    "pyautogui.hotkey(\"ctrl\", \"v\")\n",
    "\n",
    "# Enviar o e-mail\n",
    "pyautogui.hotkey(\"ctrl\", \"enter\")\n"
   ]
  },
  {
   "cell_type": "code",
   "execution_count": 7,
   "metadata": {},
   "outputs": [
    {
     "data": {
      "text/plain": [
       "Point(x=77, y=192)"
      ]
     },
     "execution_count": 7,
     "metadata": {},
     "output_type": "execute_result"
    }
   ],
   "source": [
    "time.sleep(5)\n",
    "pyautogui.position()"
   ]
  }
 ],
 "metadata": {
  "kernelspec": {
   "display_name": "Python 3 (ipykernel)",
   "language": "python",
   "name": "python3"
  },
  "language_info": {
   "codemirror_mode": {
    "name": "ipython",
    "version": 3
   },
   "file_extension": ".py",
   "mimetype": "text/x-python",
   "name": "python",
   "nbconvert_exporter": "python",
   "pygments_lexer": "ipython3",
   "version": "3.9.13"
  }
 },
 "nbformat": 4,
 "nbformat_minor": 4
}
